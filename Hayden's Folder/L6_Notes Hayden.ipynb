{
 "cells": [
  {
   "cell_type": "markdown",
   "metadata": {},
   "source": [
    "# Lecture 6: Intro to Pandas Continued"
   ]
  },
  {
   "cell_type": "code",
   "execution_count": 2,
   "metadata": {},
   "outputs": [],
   "source": [
    "# import pandas using the alias pd\n",
    "import pandas as pd\n",
    "import numpy as np"
   ]
  },
  {
   "cell_type": "markdown",
   "metadata": {},
   "source": [
    "Unlike in lecture 5, pandas is not automatically installed into this lecture. <br><br>\n",
    "We can install the python package into our environment using the terminal or by using the \"!\" operator to have a code cell run terminal code."
   ]
  },
  {
   "cell_type": "code",
   "execution_count": 3,
   "metadata": {},
   "outputs": [
    {
     "name": "stdout",
     "output_type": "stream",
     "text": [
      "Requirement already satisfied: pandas in /Library/Frameworks/Python.framework/Versions/3.13/lib/python3.13/site-packages (2.2.3)\n",
      "Requirement already satisfied: numpy>=1.26.0 in /Library/Frameworks/Python.framework/Versions/3.13/lib/python3.13/site-packages (from pandas) (2.2.3)\n",
      "Requirement already satisfied: python-dateutil>=2.8.2 in /Users/haydenharai/Library/Python/3.13/lib/python/site-packages (from pandas) (2.9.0.post0)\n",
      "Requirement already satisfied: pytz>=2020.1 in /Library/Frameworks/Python.framework/Versions/3.13/lib/python3.13/site-packages (from pandas) (2025.1)\n",
      "Requirement already satisfied: tzdata>=2022.7 in /Library/Frameworks/Python.framework/Versions/3.13/lib/python3.13/site-packages (from pandas) (2025.1)\n",
      "Requirement already satisfied: six>=1.5 in /Users/haydenharai/Library/Python/3.13/lib/python/site-packages (from python-dateutil>=2.8.2->pandas) (1.17.0)\n",
      "\n",
      "\u001b[1m[\u001b[0m\u001b[34;49mnotice\u001b[0m\u001b[1;39;49m]\u001b[0m\u001b[39;49m A new release of pip is available: \u001b[0m\u001b[31;49m24.3.1\u001b[0m\u001b[39;49m -> \u001b[0m\u001b[32;49m25.0.1\u001b[0m\n",
      "\u001b[1m[\u001b[0m\u001b[34;49mnotice\u001b[0m\u001b[1;39;49m]\u001b[0m\u001b[39;49m To update, run: \u001b[0m\u001b[32;49mpip3 install --upgrade pip\u001b[0m\n",
      "Note: you may need to restart the kernel to use updated packages.\n",
      "Requirement already satisfied: numpy in /Library/Frameworks/Python.framework/Versions/3.13/lib/python3.13/site-packages (2.2.3)\n",
      "\n",
      "\u001b[1m[\u001b[0m\u001b[34;49mnotice\u001b[0m\u001b[1;39;49m]\u001b[0m\u001b[39;49m A new release of pip is available: \u001b[0m\u001b[31;49m24.3.1\u001b[0m\u001b[39;49m -> \u001b[0m\u001b[32;49m25.0.1\u001b[0m\n",
      "\u001b[1m[\u001b[0m\u001b[34;49mnotice\u001b[0m\u001b[1;39;49m]\u001b[0m\u001b[39;49m To update, run: \u001b[0m\u001b[32;49mpip3 install --upgrade pip\u001b[0m\n",
      "Note: you may need to restart the kernel to use updated packages.\n"
     ]
    }
   ],
   "source": [
    "# install pandas using the command \"!pip install pandas\" in this cell\n",
    "%pip install pandas\n",
    "%pip install numpy"
   ]
  },
  {
   "cell_type": "markdown",
   "metadata": {},
   "source": [
    "### Load bioreactor and spectrophotometer data from the 'data' folder"
   ]
  },
  {
   "cell_type": "code",
   "execution_count": 4,
   "metadata": {},
   "outputs": [],
   "source": [
    "# define varibles to store the information in the csv files \n",
    "bioreactor_df = pd.read_csv('bioreactor.csv')\n",
    "spectrophotometer_df = pd.read_csv('spectrophotometer.csv')"
   ]
  },
  {
   "cell_type": "code",
   "execution_count": 5,
   "metadata": {},
   "outputs": [
    {
     "name": "stdout",
     "output_type": "stream",
     "text": [
      "   Time (hours)        pH  Temperature (C)\n",
      "0           0.0  6.964045        37.149119\n",
      "1           0.5  6.918685        37.663193\n",
      "2           1.0  6.827372        36.652716\n",
      "3           1.5  7.017743        36.925183\n",
      "4           2.0  6.959822        36.782423\n"
     ]
    }
   ],
   "source": [
    "# print the first 5 rows of the bioreactor_df dataframe\n",
    "print(bioreactor_df.head())"
   ]
  },
  {
   "cell_type": "code",
   "execution_count": 8,
   "metadata": {},
   "outputs": [
    {
     "name": "stdout",
     "output_type": "stream",
     "text": [
      "   Time (hours)        OD       g/L\n",
      "0             0  5.882026  1.999889\n",
      "1             1  5.489369  1.866385\n",
      "2             2  5.933779  2.017485\n",
      "3             3  5.475044  1.861515\n",
      "4             4  4.948391  1.682453\n"
     ]
    }
   ],
   "source": [
    "# print the first 5 rows of the bioreactor_df dataframe\n",
    "print(spectrophotometer_df.head())"
   ]
  },
  {
   "cell_type": "markdown",
   "metadata": {},
   "source": [
    "### Convert OD to grams / liter\n",
    "OD = optical density. These units are arbitrary, but correlate grams per liter. Assume 1 OD = 0.34 g/L"
   ]
  },
  {
   "cell_type": "code",
   "execution_count": 7,
   "metadata": {},
   "outputs": [],
   "source": [
    "# add a columm called g/L with converted biomass values\n",
    "spectrophotometer_df['g/L'] = spectrophotometer_df['OD'] * 0.34"
   ]
  },
  {
   "cell_type": "markdown",
   "metadata": {},
   "source": [
    "### Merging dataframes\n",
    "note: we can avoid the warning by changing the dtype of the series 'Time (hours)' to float64 using .astype() function"
   ]
  },
  {
   "cell_type": "code",
   "execution_count": 14,
   "metadata": {},
   "outputs": [
    {
     "name": "stdout",
     "output_type": "stream",
     "text": [
      "   Time (hours)        OD       g/L        pH  Temperature (C)\n",
      "0           0.0  5.882026  1.999889  6.964045        37.149119\n",
      "1           1.0  5.489369  1.866385  6.827372        36.652716\n",
      "2           2.0  5.933779  2.017485  6.959822        36.782423\n",
      "3           3.0  5.475044  1.861515  7.046278        37.336147\n",
      "4           4.0  4.948391  1.682453  7.005195        36.615042\n"
     ]
    }
   ],
   "source": [
    "# merge the dataframes using only the common time points called merged_df\n",
    "spectrophotometer_df['Time (hours)'] = spectrophotometer_df['Time (hours)'].astype(np.float64)\n",
    "bioreactor_df['Time (hours)'] = bioreactor_df['Time (hours)'].astype(np.float64)\n",
    "merged_df = pd.merge(spectrophotometer_df, bioreactor_df, on='Time (hours)')\n",
    "print(merged_df.head())"
   ]
  },
  {
   "cell_type": "code",
   "execution_count": 19,
   "metadata": {},
   "outputs": [
    {
     "name": "stdout",
     "output_type": "stream",
     "text": [
      "   Time (hours)        OD       g/L        pH  Temperature (C)\n",
      "0           0.0  5.882026  1.999889  6.964045        37.149119\n",
      "1           0.5       NaN       NaN  6.918685        37.663193\n",
      "2           1.0  5.489369  1.866385  6.827372        36.652716\n",
      "3           1.5       NaN       NaN  7.017743        36.925183\n",
      "4           2.0  5.933779  2.017485  6.959822        36.782423\n"
     ]
    }
   ],
   "source": [
    "# merge the dataframes using all the time points called merged_all_df\n",
    "merged_all_df = pd.merge(spectrophotometer_df, bioreactor_df, on='Time (hours)', how='outer')\n",
    "print(merged_all_df.head())\n",
    "copy_merged_all_df = merged_all_df.copy()"
   ]
  },
  {
   "cell_type": "markdown",
   "metadata": {},
   "source": [
    "## Handling NaN values in a dataframe\n",
    "There are several strategies you can use to deal with NaN (Not a Number) values in a pandas DataFrame.\n",
    "- fill with a specific value\n",
    "- forward fill \n",
    "- backward fill\n",
    "- interpolate\n",
    "- drop rows that have NaN values"
   ]
  },
  {
   "cell_type": "markdown",
   "metadata": {},
   "source": [
    "### Fill with a Specific Value (fillna)\n",
    "You can fill NaN values with a specific value like 0, a mean, or any other number. This approach is straightforward but can potentially skew your data analysis."
   ]
  },
  {
   "cell_type": "code",
   "execution_count": null,
   "metadata": {},
   "outputs": [
    {
     "name": "stdout",
     "output_type": "stream",
     "text": [
      "   Time (hours)        OD       g/L        pH  Temperature (C)\n",
      "0           0.0  5.882026  1.999889  6.964045        37.149119\n",
      "1           0.5  0.000000  0.000000  6.918685        37.663193\n",
      "2           1.0  5.489369  1.866385  6.827372        36.652716\n",
      "3           1.5  0.000000  0.000000  7.017743        36.925183\n",
      "4           2.0  5.933779  2.017485  6.959822        36.782423\n"
     ]
    }
   ],
   "source": [
    "# fill in the missing values with the number zero using the fillna() method\n",
    "merged_all_fillna_df = merged_all_df.fillna(0)\n",
    "print(merged_all_fillna_df.head())"
   ]
  },
  {
   "cell_type": "markdown",
   "metadata": {},
   "source": [
    "### Forward Fill (ffill)\n",
    "Forward fill propagates the last valid value forward to fill the NaN values. This method is particularly useful in time series data where the next valid observation is likely to be similar to the last one."
   ]
  },
  {
   "cell_type": "code",
   "execution_count": null,
   "metadata": {},
   "outputs": [
    {
     "name": "stdout",
     "output_type": "stream",
     "text": [
      "   Time (hours)        OD       g/L        pH  Temperature (C)\n",
      "0           0.0  5.882026  1.999889  6.964045        37.149119\n",
      "1           0.5  5.882026  1.999889  6.918685        37.663193\n",
      "2           1.0  5.489369  1.866385  6.827372        36.652716\n",
      "3           1.5  5.489369  1.866385  7.017743        36.925183\n",
      "4           2.0  5.933779  2.017485  6.959822        36.782423\n"
     ]
    }
   ],
   "source": [
    "# use forward fill to fill in the missing values using the ffill() method\n",
    "merged_all_ffill_df = copy_merged_all_df.ffill()\n",
    "print(merged_all_ffill_df.head())"
   ]
  },
  {
   "cell_type": "markdown",
   "metadata": {},
   "source": [
    "### Backward Fill (bfill)\n",
    "Backward fill is the opposite of forward fill. It propagates the next valid value backwards to fill NaN values."
   ]
  },
  {
   "cell_type": "code",
   "execution_count": 22,
   "metadata": {},
   "outputs": [
    {
     "name": "stdout",
     "output_type": "stream",
     "text": [
      "   Time (hours)        OD       g/L        pH  Temperature (C)\n",
      "0           0.0  5.882026  1.999889  6.964045        37.149119\n",
      "1           0.5  5.489369  1.866385  6.918685        37.663193\n",
      "2           1.0  5.489369  1.866385  6.827372        36.652716\n",
      "3           1.5  5.933779  2.017485  7.017743        36.925183\n",
      "4           2.0  5.933779  2.017485  6.959822        36.782423\n"
     ]
    }
   ],
   "source": [
    "#  use backward fill to fill in the missing values using the bfill() method\n",
    "merged_all_bfill_df = copy_merged_all_df.bfill()\n",
    "print(merged_all_bfill_df.head())"
   ]
  },
  {
   "cell_type": "markdown",
   "metadata": {},
   "source": [
    "### Interpolation\n",
    "Interpolation is a method that estimates missing values by interpolating the values based on surrounding data points. This can be linear or more complex based on the data.\n",
    "\n"
   ]
  },
  {
   "cell_type": "code",
   "execution_count": 23,
   "metadata": {},
   "outputs": [
    {
     "name": "stdout",
     "output_type": "stream",
     "text": [
      "   Time (hours)        OD       g/L        pH  Temperature (C)\n",
      "0           0.0  5.882026  1.999889  6.964045        37.149119\n",
      "1           0.5  5.685697  1.933137  6.918685        37.663193\n",
      "2           1.0  5.489369  1.866385  6.827372        36.652716\n",
      "3           1.5  5.711574  1.941935  7.017743        36.925183\n",
      "4           2.0  5.933779  2.017485  6.959822        36.782423\n"
     ]
    }
   ],
   "source": [
    "# use the interpolate() method to fill in the missing values\n",
    "merged_all_interpolate_df = copy_merged_all_df.interpolate()\n",
    "print(merged_all_interpolate_df.head())"
   ]
  },
  {
   "cell_type": "markdown",
   "metadata": {},
   "source": [
    "### Drop Missing Values\n",
    "Sometimes, if the missing data is not significant, you might choose to simply drop the rows with NaN values. However, this can result in a loss of data."
   ]
  },
  {
   "cell_type": "code",
   "execution_count": 24,
   "metadata": {},
   "outputs": [
    {
     "name": "stdout",
     "output_type": "stream",
     "text": [
      "   Time (hours)        OD       g/L        pH  Temperature (C)\n",
      "0           0.0  5.882026  1.999889  6.964045        37.149119\n",
      "2           1.0  5.489369  1.866385  6.827372        36.652716\n",
      "4           2.0  5.933779  2.017485  6.959822        36.782423\n",
      "6           3.0  5.475044  1.861515  7.046278        37.336147\n",
      "8           4.0  4.948391  1.682453  7.005195        36.615042\n"
     ]
    }
   ],
   "source": [
    "# use the dropna() method to drop all the rows with missing values\n",
    "merged_all_dropna_df = copy_merged_all_df.dropna()\n",
    "print(merged_all_dropna_df.head())"
   ]
  },
  {
   "cell_type": "markdown",
   "metadata": {},
   "source": [
    "## Data Visualization Introduction\n",
    "Note we will have to install the python package matplotlib using the command '!pip install matplotlib'"
   ]
  },
  {
   "cell_type": "code",
   "execution_count": null,
   "metadata": {},
   "outputs": [
    {
     "name": "stdout",
     "output_type": "stream",
     "text": [
      "Collecting matplotlib\n",
      "  Downloading matplotlib-3.10.1-cp313-cp313-macosx_11_0_arm64.whl.metadata (11 kB)\n",
      "Collecting contourpy>=1.0.1 (from matplotlib)\n",
      "  Downloading contourpy-1.3.1-cp313-cp313-macosx_11_0_arm64.whl.metadata (5.4 kB)\n",
      "Collecting cycler>=0.10 (from matplotlib)\n",
      "  Downloading cycler-0.12.1-py3-none-any.whl.metadata (3.8 kB)\n",
      "Collecting fonttools>=4.22.0 (from matplotlib)\n",
      "  Downloading fonttools-4.56.0-cp313-cp313-macosx_10_13_universal2.whl.metadata (101 kB)\n",
      "Collecting kiwisolver>=1.3.1 (from matplotlib)\n",
      "  Downloading kiwisolver-1.4.8-cp313-cp313-macosx_11_0_arm64.whl.metadata (6.2 kB)\n",
      "Requirement already satisfied: numpy>=1.23 in /Library/Frameworks/Python.framework/Versions/3.13/lib/python3.13/site-packages (from matplotlib) (2.2.3)\n",
      "Requirement already satisfied: packaging>=20.0 in /Users/haydenharai/Library/Python/3.13/lib/python/site-packages (from matplotlib) (24.2)\n",
      "Collecting pillow>=8 (from matplotlib)\n",
      "  Downloading pillow-11.1.0-cp313-cp313-macosx_11_0_arm64.whl.metadata (9.1 kB)\n",
      "Collecting pyparsing>=2.3.1 (from matplotlib)\n",
      "  Downloading pyparsing-3.2.1-py3-none-any.whl.metadata (5.0 kB)\n",
      "Requirement already satisfied: python-dateutil>=2.7 in /Users/haydenharai/Library/Python/3.13/lib/python/site-packages (from matplotlib) (2.9.0.post0)\n",
      "Requirement already satisfied: six>=1.5 in /Users/haydenharai/Library/Python/3.13/lib/python/site-packages (from python-dateutil>=2.7->matplotlib) (1.17.0)\n",
      "Downloading matplotlib-3.10.1-cp313-cp313-macosx_11_0_arm64.whl (8.0 MB)\n",
      "\u001b[2K   \u001b[90m━━━━━━━━━━━━━━━━━━━━━━━━━━━━━━━━━━━━━━━━\u001b[0m \u001b[32m8.0/8.0 MB\u001b[0m \u001b[31m22.7 MB/s\u001b[0m eta \u001b[36m0:00:00\u001b[0m00:01\u001b[0m00:01\u001b[0m\n",
      "\u001b[?25hDownloading contourpy-1.3.1-cp313-cp313-macosx_11_0_arm64.whl (255 kB)\n",
      "Downloading cycler-0.12.1-py3-none-any.whl (8.3 kB)\n",
      "Downloading fonttools-4.56.0-cp313-cp313-macosx_10_13_universal2.whl (2.7 MB)\n",
      "\u001b[2K   \u001b[90m━━━━━━━━━━━━━━━━━━━━━━━━━━━━━━━━━━━━━━━━\u001b[0m \u001b[32m2.7/2.7 MB\u001b[0m \u001b[31m30.7 MB/s\u001b[0m eta \u001b[36m0:00:00\u001b[0m\n",
      "\u001b[?25hDownloading kiwisolver-1.4.8-cp313-cp313-macosx_11_0_arm64.whl (65 kB)\n",
      "Downloading pillow-11.1.0-cp313-cp313-macosx_11_0_arm64.whl (3.1 MB)\n",
      "\u001b[2K   \u001b[90m━━━━━━━━━━━━━━━━━━━━━━━━━━━━━━━━━━━━━━━━\u001b[0m \u001b[32m3.1/3.1 MB\u001b[0m \u001b[31m29.8 MB/s\u001b[0m eta \u001b[36m0:00:00\u001b[0m\n",
      "\u001b[?25hDownloading pyparsing-3.2.1-py3-none-any.whl (107 kB)\n",
      "Installing collected packages: pyparsing, pillow, kiwisolver, fonttools, cycler, contourpy, matplotlib\n",
      "Successfully installed contourpy-1.3.1 cycler-0.12.1 fonttools-4.56.0 kiwisolver-1.4.8 matplotlib-3.10.1 pillow-11.1.0 pyparsing-3.2.1\n",
      "\n",
      "\u001b[1m[\u001b[0m\u001b[34;49mnotice\u001b[0m\u001b[1;39;49m]\u001b[0m\u001b[39;49m A new release of pip is available: \u001b[0m\u001b[31;49m24.3.1\u001b[0m\u001b[39;49m -> \u001b[0m\u001b[32;49m25.0.1\u001b[0m\n",
      "\u001b[1m[\u001b[0m\u001b[34;49mnotice\u001b[0m\u001b[1;39;49m]\u001b[0m\u001b[39;49m To update, run: \u001b[0m\u001b[32;49mpip3 install --upgrade pip\u001b[0m\n",
      "Note: you may need to restart the kernel to use updated packages.\n"
     ]
    }
   ],
   "source": [
    "# install matplotlib using the command '!pip install matplotlib'\n",
    "%pip install matplotlib\n",
    "import matplotlib.pyplot as plt"
   ]
  },
  {
   "cell_type": "markdown",
   "metadata": {},
   "source": [
    "### Line plot from dataframe\n",
    "```python\n",
    "df.plot(x='column name', y=['line 1 column name', 'line 2 column name', 'line 3 column name',...])\n",
    "```"
   ]
  },
  {
   "cell_type": "code",
   "execution_count": null,
   "metadata": {},
   "outputs": [
    {
     "data": {
      "image/png": "[encoded data removed]",
      "text/plain": [
       "<Figure size 640x480 with 1 Axes>"
      ]
     },
     "metadata": {},
     "output_type": "display_data"
    }
   ],
   "source": [
    "# make a line plot of the pH, temperature, and g/L biomass over time\n",
    "merged_all_interpolate_line_plot = merged_all_interpolate_df.plot(x='Time (hours)', y=['pH', 'Temperature (C)', 'g/L'], kind='line')"
   ]
  },
  {
   "cell_type": "markdown",
   "metadata": {},
   "source": [
    "### Scatter plot from dataframe\n",
    "```python\n",
    "ax = df.plot.scatter(x='column_name_x', y='line_1_column_name', color='Red')\n",
    "df.plot.scatter(x='column_name_x', y='line_2_column_name', color='Blue', ax=ax)\n",
    "```"
   ]
  },
  {
   "cell_type": "code",
   "execution_count": 39,
   "metadata": {},
   "outputs": [
    {
     "data": {
      "image/png": "[encoded data removed]",
      "text/plain": [
       "<Figure size 640x480 with 1 Axes>"
      ]
     },
     "metadata": {},
     "output_type": "display_data"
    },
    {
     "data": {
      "image/png": "[encoded data removed]",
      "text/plain": [
       "<Figure size 640x480 with 1 Axes>"
      ]
     },
     "metadata": {},
     "output_type": "display_data"
    }
   ],
   "source": [
    "# make a scatter plot with biomass on the x-axis with pH and temperature on the y-axis\n",
    "merged_all_dropna_scatter = merged_all_dropna_df.plot.scatter(x='g/L', y='pH')\n",
    "merged_all_dropna_scatter = merged_all_dropna_df.plot.scatter(x='g/L', y='Temperature (C)')"
   ]
  },
  {
   "cell_type": "markdown",
   "metadata": {},
   "source": [
    "### Histogram from a pandas series\n",
    "```python\n",
    "df['column name'].plot.hist()\n",
    "```"
   ]
  },
  {
   "cell_type": "code",
   "execution_count": 40,
   "metadata": {},
   "outputs": [
    {
     "data": {
      "image/png": "[encoded data removed]",
      "text/plain": [
       "<Figure size 640x480 with 1 Axes>"
      ]
     },
     "metadata": {},
     "output_type": "display_data"
    }
   ],
   "source": [
    "# make a histogram of all the values in the g/L biomass column\n",
    "merged_all_interpolate_hist = merged_all_interpolate_df['g/L'].plot.hist()"
   ]
  },
  {
   "cell_type": "markdown",
   "metadata": {},
   "source": [
    "### Box plot from series\n",
    "```python\n",
    "df['column name'].plot.box()\n",
    "```"
   ]
  },
  {
   "cell_type": "code",
   "execution_count": 42,
   "metadata": {},
   "outputs": [
    {
     "data": {
      "image/png": "[encoded data removed]",
      "text/plain": [
       "<Figure size 640x480 with 1 Axes>"
      ]
     },
     "metadata": {},
     "output_type": "display_data"
    }
   ],
   "source": [
    "# make a boxplot of the all the values in the temperature column\n",
    "merged_all_interpolate_box = merged_all_interpolate_df['Temperature (C)'].plot.box()"
   ]
  },
  {
   "cell_type": "markdown",
   "metadata": {},
   "source": [
    "### Additional Resources\n",
    "\n",
    "[Dataframe plotting documentation](https://pandas.pydata.org/pandas-docs/version/0.23/generated/pandas.DataFrame.plot.html)"
   ]
  }
 ],
 "metadata": {
  "kernelspec": {
   "display_name": "Python 3",
   "language": "python",
   "name": "python3"
  },
  "language_info": {
   "codemirror_mode": {
    "name": "ipython",
    "version": 3
   },
   "file_extension": ".py",
   "mimetype": "text/x-python",
   "name": "python",
   "nbconvert_exporter": "python",
   "pygments_lexer": "ipython3",
   "version": "3.13.2"
  }
 },
 "nbformat": 4,
 "nbformat_minor": 2
}
