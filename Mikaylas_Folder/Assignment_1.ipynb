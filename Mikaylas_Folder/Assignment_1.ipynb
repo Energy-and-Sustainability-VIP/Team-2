{
 "cells": [
  {
   "cell_type": "code",
   "execution_count": 1,
   "metadata": {},
   "outputs": [
    {
     "name": "stdout",
     "output_type": "stream",
     "text": [
      "Current directory: c:\\Users\\Hawaii\\Documents\\GitHub\\Team-2\\Mikaylas_Folder\n",
      "Requirement already satisfied: tabulate in c:\\users\\hawaii\\anaconda3\\envs\\rpi_env\\lib\\site-packages (0.9.0)\n"
     ]
    }
   ],
   "source": [
    "import os\n",
    "print(\"Current directory:\", os.getcwd())\n",
    "!pip install tabulate"
   ]
  },
  {
   "cell_type": "code",
   "execution_count": null,
   "metadata": {},
   "outputs": [
    {
     "name": "stdout",
     "output_type": "stream",
     "text": [
      "Requirement already satisfied: tabulate in c:\\users\\hawaii\\anaconda3\\envs\\rpi_env\\lib\\site-packages (0.9.0)\n",
      "<bound method NDFrame.head of                    datetime   meter_id  meter_reading\n",
      "0     4/30/2024 12:15:00 AM  179101524       29737.42\n",
      "1     4/30/2024 12:30:00 AM  179101524       29905.67\n",
      "2     4/30/2024 12:45:00 AM  179101524       30078.67\n",
      "3      4/30/2024 1:00:00 AM  179101524       29619.59\n",
      "4      4/30/2024 1:15:00 AM  179101524       29877.85\n",
      "...                     ...        ...            ...\n",
      "1051  4/30/2024 11:00:00 AM  247822025       41706.17\n",
      "1052  4/30/2024 11:15:00 AM  247822025       41433.77\n",
      "1053  4/30/2024 11:30:00 AM  247822025       42621.20\n",
      "1054  4/30/2024 11:45:00 AM  247822025       42029.38\n",
      "1055  4/30/2024 12:00:00 PM  247822025       41843.09\n",
      "\n",
      "[1056 rows x 3 columns]>\n"
     ]
    }
   ],
   "source": [
    "#import csv file\n",
    "import csv\n",
    "import pandas as pd\n",
    "from tabulate import tabulate\n",
    "#load data set/create path\n",
    "csv_path = pd.read_csv('Watts, 3-Ph total.csv')\n",
    "\n",
    "print(csv_path.head)"
   ]
  },
  {
   "cell_type": "code",
   "execution_count": 9,
   "metadata": {},
   "outputs": [
    {
     "name": "stdout",
     "output_type": "stream",
     "text": [
      "Max Value: 442865.75\n",
      "Min Value: 0.0\n",
      "Average Value: 59762.745208333334\n",
      "0       False\n",
      "1       False\n",
      "2       False\n",
      "3       False\n",
      "4       False\n",
      "        ...  \n",
      "1051    False\n",
      "1052    False\n",
      "1053    False\n",
      "1054    False\n",
      "1055    False\n",
      "Name: meter_reading, Length: 1056, dtype: bool\n"
     ]
    }
   ],
   "source": [
    "#use data set to find max,min, avg\n",
    "max_data = csv_path['meter_reading'].max()\n",
    "min_data = csv_path['meter_reading'].min()\n",
    "avg_data = csv_path['meter_reading'].mean()\n",
    "\n",
    "print(f\"Max Value: {max_data}\")\n",
    "print(f\"Min Value: {min_data}\")\n",
    "print(f\"Average Value: {avg_data}\")\n",
    "\n",
    "#print whole row\n",
    "#print(csv_path['meter_reading']==max_data)\n",
    "print(csv_path['meter_reading']==min_data)\n"
   ]
  },
  {
   "cell_type": "code",
   "execution_count": 13,
   "metadata": {},
   "outputs": [
    {
     "name": "stdout",
     "output_type": "stream",
     "text": [
      "<bound method NDFrame.head of                    datetime   meter_id  meter_reading       Watts         kWh\n",
      "0     4/30/2024 12:15:00 AM  179101524       29737.42  29737420.0   7434.3550\n",
      "1     4/30/2024 12:30:00 AM  179101524       29905.67  29905670.0   7476.4175\n",
      "2     4/30/2024 12:45:00 AM  179101524       30078.67  30078670.0   7519.6675\n",
      "3      4/30/2024 1:00:00 AM  179101524       29619.59  29619590.0   7404.8975\n",
      "4      4/30/2024 1:15:00 AM  179101524       29877.85  29877850.0   7469.4625\n",
      "...                     ...        ...            ...         ...         ...\n",
      "1051  4/30/2024 11:00:00 AM  247822025       41706.17  41706170.0  10426.5425\n",
      "1052  4/30/2024 11:15:00 AM  247822025       41433.77  41433770.0  10358.4425\n",
      "1053  4/30/2024 11:30:00 AM  247822025       42621.20  42621200.0  10655.3000\n",
      "1054  4/30/2024 11:45:00 AM  247822025       42029.38  42029380.0  10507.3450\n",
      "1055  4/30/2024 12:00:00 PM  247822025       41843.09  41843090.0  10460.7725\n",
      "\n",
      "[1056 rows x 5 columns]>\n"
     ]
    }
   ],
   "source": [
    "#add columns Watts and kWh\n",
    "#watts = meter reading (in kW) *1000\n",
    "csv_path['Watts'] = csv_path['meter_reading']*1000\n",
    "#meter reading in kW *0.25(every 15 min) = kWh\n",
    "csv_path['kWh'] = csv_path['meter_reading']*0.25 \n",
    "print(csv_path.head)"
   ]
  },
  {
   "cell_type": "code",
   "execution_count": 12,
   "metadata": {},
   "outputs": [],
   "source": [
    "#convert new data set into csv file\n",
    "csv_path.to_csv(\"Assignmentone.csv\")"
   ]
  }
 ],
 "metadata": {
  "kernelspec": {
   "display_name": "rpi_env",
   "language": "python",
   "name": "python3"
  },
  "language_info": {
   "codemirror_mode": {
    "name": "ipython",
    "version": 3
   },
   "file_extension": ".py",
   "mimetype": "text/x-python",
   "name": "python",
   "nbconvert_exporter": "python",
   "pygments_lexer": "ipython3",
   "version": "3.10.14"
  }
 },
 "nbformat": 4,
 "nbformat_minor": 2
}
