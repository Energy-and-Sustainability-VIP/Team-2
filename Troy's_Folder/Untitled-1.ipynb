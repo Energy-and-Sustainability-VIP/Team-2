{
 "cells": [
  {
   "cell_type": "code",
   "execution_count": 3,
   "metadata": {},
   "outputs": [
    {
     "name": "stdout",
     "output_type": "stream",
     "text": [
      "                 datetime   meter_id  meter_reading\n",
      "0   4/30/2024 12:15:00 AM  179101524       29737.42\n",
      "1   4/30/2024 12:30:00 AM  179101524       29905.67\n",
      "2   4/30/2024 12:45:00 AM  179101524       30078.67\n",
      "3    4/30/2024 1:00:00 AM  179101524       29619.59\n",
      "4    4/30/2024 1:15:00 AM  179101524       29877.85\n",
      "5    4/30/2024 1:30:00 AM  179101524       29920.65\n",
      "6    4/30/2024 1:45:00 AM  179101524       29666.95\n",
      "7    4/30/2024 2:00:00 AM  179101524       30133.48\n",
      "8    4/30/2024 2:15:00 AM  179101524       30361.59\n",
      "9    4/30/2024 2:30:00 AM  179101524       30338.31\n",
      "10   4/30/2024 2:45:00 AM  179101524       30731.18\n",
      "11   4/30/2024 3:00:00 AM  179101524       30518.71\n",
      "12   4/30/2024 3:15:00 AM  179101524       31252.29\n",
      "13   4/30/2024 3:30:00 AM  179101524       30448.02\n",
      "14   4/30/2024 3:45:00 AM  179101524       30471.83\n",
      "15   4/30/2024 4:00:00 AM  179101524       30127.11\n",
      "16   4/30/2024 4:15:00 AM  179101524       29637.20\n",
      "17   4/30/2024 4:30:00 AM  179101524       29421.92\n",
      "18   4/30/2024 4:45:00 AM  179101524       29560.36\n",
      "19   4/30/2024 5:00:00 AM  179101524       32142.07\n"
     ]
    }
   ],
   "source": [
    "from pathlib import Path\n",
    "import pandas as pd\n",
    "import numpy as np\n",
    "\n",
    "g = Path('Watts, 3-Ph total.csv') \n",
    "with g.open('r') as file:\n",
    "   Watts = pd.read_csv(file)\n",
    "\n",
    "   print(Watts.head(20))"
   ]
  },
  {
   "cell_type": "code",
   "execution_count": 4,
   "metadata": {},
   "outputs": [
    {
     "name": "stdout",
     "output_type": "stream",
     "text": [
      "\n",
      "Row with Max meter_reading:\n",
      "datetime         4/30/2024 9:30:00 AM\n",
      "meter_id                    179105629\n",
      "meter_reading               442865.75\n",
      "Name: 805, dtype: object\n",
      "\n",
      "Row with Min meter_reading:\n",
      "datetime         4/30/2024 6:15:00 AM\n",
      "meter_id                    179105629\n",
      "meter_reading                     0.0\n",
      "Name: 792, dtype: object\n",
      "\n",
      "Average meter_reading:\n",
      "59762.745208333334\n",
      "\n",
      "DataFrame with new columns (watts and kWh):\n",
      "                 datetime   meter_id  meter_reading     watts       kwh\n",
      "0   4/30/2024 12:15:00 AM  179101524       29737.42  29737.42  7.434355\n",
      "1   4/30/2024 12:30:00 AM  179101524       29905.67  29905.67  7.476417\n",
      "2   4/30/2024 12:45:00 AM  179101524       30078.67  30078.67  7.519667\n",
      "3    4/30/2024 1:00:00 AM  179101524       29619.59  29619.59  7.404897\n",
      "4    4/30/2024 1:15:00 AM  179101524       29877.85  29877.85  7.469462\n",
      "5    4/30/2024 1:30:00 AM  179101524       29920.65  29920.65  7.480163\n",
      "6    4/30/2024 1:45:00 AM  179101524       29666.95  29666.95  7.416737\n",
      "7    4/30/2024 2:00:00 AM  179101524       30133.48  30133.48  7.533370\n",
      "8    4/30/2024 2:15:00 AM  179101524       30361.59  30361.59  7.590397\n",
      "9    4/30/2024 2:30:00 AM  179101524       30338.31  30338.31  7.584577\n",
      "10   4/30/2024 2:45:00 AM  179101524       30731.18  30731.18  7.682795\n",
      "11   4/30/2024 3:00:00 AM  179101524       30518.71  30518.71  7.629677\n",
      "12   4/30/2024 3:15:00 AM  179101524       31252.29  31252.29  7.813073\n",
      "13   4/30/2024 3:30:00 AM  179101524       30448.02  30448.02  7.612005\n",
      "14   4/30/2024 3:45:00 AM  179101524       30471.83  30471.83  7.617958\n",
      "15   4/30/2024 4:00:00 AM  179101524       30127.11  30127.11  7.531778\n",
      "16   4/30/2024 4:15:00 AM  179101524       29637.20  29637.20  7.409300\n",
      "17   4/30/2024 4:30:00 AM  179101524       29421.92  29421.92  7.355480\n",
      "18   4/30/2024 4:45:00 AM  179101524       29560.36  29560.36  7.390090\n",
      "19   4/30/2024 5:00:00 AM  179101524       32142.07  32142.07  8.035517\n"
     ]
    }
   ],
   "source": [
    "# 3. Find the Max, Min, and average value of the dataset for the column meter_reading (print the whole row)\n",
    "max_row = Watts.loc[Watts['meter_reading'].idxmax()]\n",
    "min_row = Watts.loc[Watts['meter_reading'].idxmin()]\n",
    "avg_value = Watts['meter_reading'].mean()\n",
    "\n",
    "print(\"\\nRow with Max meter_reading:\")\n",
    "print(max_row)\n",
    "\n",
    "print(\"\\nRow with Min meter_reading:\")\n",
    "print(min_row)\n",
    "\n",
    "print(\"\\nAverage meter_reading:\")\n",
    "print(avg_value)\n",
    "\n",
    "# 4. Add 2 new columns to the dataframe containing watts and kWh\n",
    "# Assuming the meter_reading is already in watts, we can directly assign it to the new column\n",
    "Watts['watts'] = Watts['meter_reading']\n",
    "\n",
    "# Convert watts to kWh (1 kWh = 1000 watts * 1 hour)\n",
    "# Assuming the time interval between readings is 15 minutes (0.25 hours)\n",
    "Watts['kwh'] = Watts['watts'] * 0.25 / 1000\n",
    "\n",
    "# Print the updated dataframe with the new columns\n",
    "print(\"\\nDataFrame with new columns (watts and kWh):\")\n",
    "print(Watts.head(20))"
   ]
  }
 ],
 "metadata": {
  "kernelspec": {
   "display_name": "base",
   "language": "python",
   "name": "python3"
  },
  "language_info": {
   "codemirror_mode": {
    "name": "ipython",
    "version": 3
   },
   "file_extension": ".py",
   "mimetype": "text/x-python",
   "name": "python",
   "nbconvert_exporter": "python",
   "pygments_lexer": "ipython3",
   "version": "3.10.14"
  }
 },
 "nbformat": 4,
 "nbformat_minor": 2
}
